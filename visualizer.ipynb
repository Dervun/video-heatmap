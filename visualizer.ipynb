{
 "cells": [
  {
   "cell_type": "markdown",
   "metadata": {},
   "source": [
    "# Генерация изображения по полученным данным"
   ]
  },
  {
   "cell_type": "code",
   "execution_count": 1,
   "metadata": {},
   "outputs": [
    {
     "name": "stdout",
     "output_type": "stream",
     "text": [
      "width = 1920, height = 1080\n"
     ]
    }
   ],
   "source": [
    "import numpy as np\n",
    "import seaborn as sb\n",
    "\n",
    "arr = []\n",
    "with open('test_heatmaps.mp4_result(convex_hull).txt', mode='r') as file:\n",
    "    width, height = map(int, file.readline().split())\n",
    "    print(f'width = {width}, height = {height}')\n",
    "    for y in range(height):\n",
    "        arr.append([int(value) for value in file.readline().split()])\n",
    "\n",
    "matrix = np.array(arr, dtype=np.float64)\n",
    "length_in_sec = 2603\n",
    "check_per_sec = 2\n",
    "matrix = matrix / (length_in_sec * check_per_sec)"
   ]
  },
  {
   "cell_type": "code",
   "execution_count": 2,
   "metadata": {},
   "outputs": [
    {
     "name": "stdout",
     "output_type": "stream",
     "text": [
      "(1080, 1920)\n",
      "float64\n"
     ]
    }
   ],
   "source": [
    "# Проверка\n",
    "print(matrix.shape)\n",
    "print(matrix.dtype)"
   ]
  },
  {
   "cell_type": "code",
   "execution_count": null,
   "metadata": {},
   "outputs": [],
   "source": [
    "import matplotlib.pyplot as plt\n",
    "\n",
    "plt.figure(figsize=(24, 10))  \n",
    "ax = sb.heatmap(matrix)"
   ]
  },
  {
   "cell_type": "code",
   "execution_count": 5,
   "metadata": {},
   "outputs": [],
   "source": [
    "# tuning\n",
    "matrix[40:120, 700:830] = 0"
   ]
  },
  {
   "cell_type": "code",
   "execution_count": 7,
   "metadata": {},
   "outputs": [],
   "source": [
    "fig = ax.get_figure()\n",
    "fig.savefig(\"heatmap_after_tuning.png\")"
   ]
  },
  {
   "cell_type": "markdown",
   "metadata": {},
   "source": [
    "# Цветная картинка, наложенная на кадр из видео"
   ]
  },
  {
   "cell_type": "code",
   "execution_count": null,
   "metadata": {},
   "outputs": [],
   "source": [
    "import numpy as np\n",
    "import matplotlib.pyplot as plt\n",
    "import matplotlib.colors as mcolors\n",
    "from PIL import Image\n",
    "\n",
    "\n",
    "def transparent_cmap(cmap, N=255):\n",
    "    \"Copy colormap and set alpha values\"\n",
    "    mycmap = cmap\n",
    "    mycmap._init()\n",
    "    mycmap._lut[:,-1] = np.linspace(0, 0.8, N+4)\n",
    "    return mycmap\n",
    "\n",
    "\n",
    "mycmap = transparent_cmap(plt.cm.jet)\n",
    "img = Image.open('./image_frame.png')\n",
    "p = np.asarray(img).astype('float')\n",
    "w, h = img.size\n",
    "y, x = np.mgrid[0:h, 0:w]\n",
    "\n",
    "# Plot image and overlay colormap\n",
    "fig, ax = plt.subplots(1, 1, figsize=(28, 10))\n",
    "ax.imshow(img)\n",
    "\n",
    "n_colours = 17\n",
    "color_bar = ax.contourf(x, y, matrix.reshape(x.shape[0], y.shape[1]), n_colours, cmap=mycmap)\n",
    "color_bar = plt.colorbar(color_bar)\n",
    "plt.ylabel('y')\n",
    "plt.xlabel('x')\n",
    "color_bar.ax.set_ylabel('Среднее количество движений в секунду')\n",
    "plt.title('Визуализация тепловой карты')\n",
    "plt.show()"
   ]
  },
  {
   "cell_type": "code",
   "execution_count": 9,
   "metadata": {},
   "outputs": [],
   "source": [
    "fig.savefig('heatmap_after_tuning_overlapped.png')"
   ]
  },
  {
   "cell_type": "code",
   "execution_count": null,
   "metadata": {},
   "outputs": [],
   "source": []
  }
 ],
 "metadata": {
  "kernelspec": {
   "display_name": "Python 3",
   "language": "python",
   "name": "python3"
  },
  "language_info": {
   "codemirror_mode": {
    "name": "ipython",
    "version": 3
   },
   "file_extension": ".py",
   "mimetype": "text/x-python",
   "name": "python",
   "nbconvert_exporter": "python",
   "pygments_lexer": "ipython3",
   "version": "3.7.1"
  }
 },
 "nbformat": 4,
 "nbformat_minor": 2
}
